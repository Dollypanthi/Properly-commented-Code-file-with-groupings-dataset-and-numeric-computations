{
 "cells": [
  {
   "cell_type": "markdown",
   "id": "3e1a2fb8",
   "metadata": {},
   "source": [
    "# Properly commented Code file with groupings, dataset and numeric computations"
   ]
  },
  {
   "cell_type": "markdown",
   "id": "0d315b55",
   "metadata": {},
   "source": [
    "# IMPORT THE DATA"
   ]
  },
  {
   "cell_type": "code",
   "execution_count": 1,
   "id": "4e1f3e4c",
   "metadata": {},
   "outputs": [],
   "source": [
    "# Import necessary libraries\n",
    "import pandas as pd\n",
    "import numpy as np"
   ]
  },
  {
   "cell_type": "markdown",
   "id": "a054c460",
   "metadata": {},
   "source": [
    "Define functions or classes if needed"
   ]
  },
  {
   "cell_type": "code",
   "execution_count": 2,
   "id": "7596265d",
   "metadata": {},
   "outputs": [],
   "source": [
    " # Read dataset into a pandas DataFrame\n",
    "    \n",
    "dataset = pd.read_csv(\"Recruitment_Data.csv\")"
   ]
  },
  {
   "cell_type": "code",
   "execution_count": 3,
   "id": "06ea338c",
   "metadata": {},
   "outputs": [
    {
     "data": {
      "text/html": [
       "<div>\n",
       "<style scoped>\n",
       "    .dataframe tbody tr th:only-of-type {\n",
       "        vertical-align: middle;\n",
       "    }\n",
       "\n",
       "    .dataframe tbody tr th {\n",
       "        vertical-align: top;\n",
       "    }\n",
       "\n",
       "    .dataframe thead th {\n",
       "        text-align: right;\n",
       "    }\n",
       "</style>\n",
       "<table border=\"1\" class=\"dataframe\">\n",
       "  <thead>\n",
       "    <tr style=\"text-align: right;\">\n",
       "      <th></th>\n",
       "      <th>attrition</th>\n",
       "      <th>performance_rating</th>\n",
       "      <th>sales_quota_pct</th>\n",
       "      <th>recruiting_source</th>\n",
       "    </tr>\n",
       "  </thead>\n",
       "  <tbody>\n",
       "    <tr>\n",
       "      <th>0</th>\n",
       "      <td>1</td>\n",
       "      <td>3</td>\n",
       "      <td>1.088190</td>\n",
       "      <td>Applied Online</td>\n",
       "    </tr>\n",
       "    <tr>\n",
       "      <th>1</th>\n",
       "      <td>0</td>\n",
       "      <td>3</td>\n",
       "      <td>2.394173</td>\n",
       "      <td>NaN</td>\n",
       "    </tr>\n",
       "    <tr>\n",
       "      <th>2</th>\n",
       "      <td>1</td>\n",
       "      <td>2</td>\n",
       "      <td>0.497530</td>\n",
       "      <td>Campus</td>\n",
       "    </tr>\n",
       "    <tr>\n",
       "      <th>3</th>\n",
       "      <td>0</td>\n",
       "      <td>2</td>\n",
       "      <td>2.513958</td>\n",
       "      <td>NaN</td>\n",
       "    </tr>\n",
       "    <tr>\n",
       "      <th>4</th>\n",
       "      <td>0</td>\n",
       "      <td>3</td>\n",
       "      <td>1.424789</td>\n",
       "      <td>Applied Online</td>\n",
       "    </tr>\n",
       "    <tr>\n",
       "      <th>...</th>\n",
       "      <td>...</td>\n",
       "      <td>...</td>\n",
       "      <td>...</td>\n",
       "      <td>...</td>\n",
       "    </tr>\n",
       "    <tr>\n",
       "      <th>441</th>\n",
       "      <td>0</td>\n",
       "      <td>3</td>\n",
       "      <td>1.627813</td>\n",
       "      <td>Campus</td>\n",
       "    </tr>\n",
       "    <tr>\n",
       "      <th>442</th>\n",
       "      <td>1</td>\n",
       "      <td>4</td>\n",
       "      <td>0.689682</td>\n",
       "      <td>Referral</td>\n",
       "    </tr>\n",
       "    <tr>\n",
       "      <th>443</th>\n",
       "      <td>0</td>\n",
       "      <td>4</td>\n",
       "      <td>1.196198</td>\n",
       "      <td>NaN</td>\n",
       "    </tr>\n",
       "    <tr>\n",
       "      <th>444</th>\n",
       "      <td>0</td>\n",
       "      <td>4</td>\n",
       "      <td>1.598213</td>\n",
       "      <td>Applied Online</td>\n",
       "    </tr>\n",
       "    <tr>\n",
       "      <th>445</th>\n",
       "      <td>0</td>\n",
       "      <td>2</td>\n",
       "      <td>0.582642</td>\n",
       "      <td>NaN</td>\n",
       "    </tr>\n",
       "  </tbody>\n",
       "</table>\n",
       "<p>446 rows × 4 columns</p>\n",
       "</div>"
      ],
      "text/plain": [
       "     attrition  performance_rating  sales_quota_pct recruiting_source\n",
       "0            1                   3         1.088190    Applied Online\n",
       "1            0                   3         2.394173               NaN\n",
       "2            1                   2         0.497530            Campus\n",
       "3            0                   2         2.513958               NaN\n",
       "4            0                   3         1.424789    Applied Online\n",
       "..         ...                 ...              ...               ...\n",
       "441          0                   3         1.627813            Campus\n",
       "442          1                   4         0.689682          Referral\n",
       "443          0                   4         1.196198               NaN\n",
       "444          0                   4         1.598213    Applied Online\n",
       "445          0                   2         0.582642               NaN\n",
       "\n",
       "[446 rows x 4 columns]"
      ]
     },
     "execution_count": 3,
     "metadata": {},
     "output_type": "execute_result"
    }
   ],
   "source": [
    "dataset"
   ]
  },
  {
   "cell_type": "code",
   "execution_count": 4,
   "id": "6971cd6e",
   "metadata": {},
   "outputs": [
    {
     "name": "stdout",
     "output_type": "stream",
     "text": [
      "Dataset Information:\n",
      "<class 'pandas.core.frame.DataFrame'>\n",
      "RangeIndex: 446 entries, 0 to 445\n",
      "Data columns (total 4 columns):\n",
      " #   Column              Non-Null Count  Dtype  \n",
      "---  ------              --------------  -----  \n",
      " 0   attrition           446 non-null    int64  \n",
      " 1   performance_rating  446 non-null    int64  \n",
      " 2   sales_quota_pct     446 non-null    float64\n",
      " 3   recruiting_source   241 non-null    object \n",
      "dtypes: float64(1), int64(2), object(1)\n",
      "memory usage: 14.1+ KB\n",
      "None\n"
     ]
    }
   ],
   "source": [
    "# Display basic information about the dataset\n",
    "\n",
    "print(\"Dataset Information:\")\n",
    "print(dataset.info())"
   ]
  },
  {
   "cell_type": "markdown",
   "id": "1154eb48",
   "metadata": {},
   "source": [
    "Function for numeric computations def perform_numeric_computations(data): Perform numeric computations on the dataset."
   ]
  },
  {
   "cell_type": "code",
   "execution_count": 5,
   "id": "85f153df",
   "metadata": {},
   "outputs": [
    {
     "data": {
      "text/plain": [
       "(446, 4)"
      ]
     },
     "execution_count": 5,
     "metadata": {},
     "output_type": "execute_result"
    }
   ],
   "source": [
    "dataset.shape"
   ]
  },
  {
   "cell_type": "code",
   "execution_count": 6,
   "id": "3e8e4934",
   "metadata": {},
   "outputs": [
    {
     "data": {
      "text/html": [
       "<div>\n",
       "<style scoped>\n",
       "    .dataframe tbody tr th:only-of-type {\n",
       "        vertical-align: middle;\n",
       "    }\n",
       "\n",
       "    .dataframe tbody tr th {\n",
       "        vertical-align: top;\n",
       "    }\n",
       "\n",
       "    .dataframe thead th {\n",
       "        text-align: right;\n",
       "    }\n",
       "</style>\n",
       "<table border=\"1\" class=\"dataframe\">\n",
       "  <thead>\n",
       "    <tr style=\"text-align: right;\">\n",
       "      <th></th>\n",
       "      <th>attrition</th>\n",
       "      <th>performance_rating</th>\n",
       "      <th>sales_quota_pct</th>\n",
       "    </tr>\n",
       "  </thead>\n",
       "  <tbody>\n",
       "    <tr>\n",
       "      <th>count</th>\n",
       "      <td>446.000000</td>\n",
       "      <td>446.000000</td>\n",
       "      <td>446.000000</td>\n",
       "    </tr>\n",
       "    <tr>\n",
       "      <th>mean</th>\n",
       "      <td>0.213004</td>\n",
       "      <td>2.894619</td>\n",
       "      <td>1.082607</td>\n",
       "    </tr>\n",
       "    <tr>\n",
       "      <th>std</th>\n",
       "      <td>0.409891</td>\n",
       "      <td>0.683755</td>\n",
       "      <td>0.710042</td>\n",
       "    </tr>\n",
       "    <tr>\n",
       "      <th>min</th>\n",
       "      <td>0.000000</td>\n",
       "      <td>1.000000</td>\n",
       "      <td>-0.710827</td>\n",
       "    </tr>\n",
       "    <tr>\n",
       "      <th>25%</th>\n",
       "      <td>0.000000</td>\n",
       "      <td>2.000000</td>\n",
       "      <td>0.584444</td>\n",
       "    </tr>\n",
       "    <tr>\n",
       "      <th>50%</th>\n",
       "      <td>0.000000</td>\n",
       "      <td>3.000000</td>\n",
       "      <td>1.070143</td>\n",
       "    </tr>\n",
       "    <tr>\n",
       "      <th>75%</th>\n",
       "      <td>0.000000</td>\n",
       "      <td>3.000000</td>\n",
       "      <td>1.532488</td>\n",
       "    </tr>\n",
       "    <tr>\n",
       "      <th>max</th>\n",
       "      <td>1.000000</td>\n",
       "      <td>5.000000</td>\n",
       "      <td>3.666740</td>\n",
       "    </tr>\n",
       "  </tbody>\n",
       "</table>\n",
       "</div>"
      ],
      "text/plain": [
       "        attrition  performance_rating  sales_quota_pct\n",
       "count  446.000000          446.000000       446.000000\n",
       "mean     0.213004            2.894619         1.082607\n",
       "std      0.409891            0.683755         0.710042\n",
       "min      0.000000            1.000000        -0.710827\n",
       "25%      0.000000            2.000000         0.584444\n",
       "50%      0.000000            3.000000         1.070143\n",
       "75%      0.000000            3.000000         1.532488\n",
       "max      1.000000            5.000000         3.666740"
      ]
     },
     "execution_count": 6,
     "metadata": {},
     "output_type": "execute_result"
    }
   ],
   "source": [
    "dataset.describe()"
   ]
  },
  {
   "cell_type": "markdown",
   "id": "f9440b7f",
   "metadata": {},
   "source": [
    "# Groupings the dataset "
   ]
  },
  {
   "cell_type": "code",
   "execution_count": 7,
   "id": "7c792799",
   "metadata": {},
   "outputs": [],
   "source": [
    "# Grouping the data based on a categorical column, e.g., 'recruiting_source'\n",
    "grouped_data = dataset.groupby('recruiting_source')"
   ]
  },
  {
   "cell_type": "code",
   "execution_count": 8,
   "id": "7780a7a3",
   "metadata": {},
   "outputs": [
    {
     "data": {
      "text/plain": [
       "attrition               0\n",
       "performance_rating      0\n",
       "sales_quota_pct         0\n",
       "recruiting_source     205\n",
       "dtype: int64"
      ]
     },
     "execution_count": 8,
     "metadata": {},
     "output_type": "execute_result"
    }
   ],
   "source": [
    "dataset.isna().sum()"
   ]
  },
  {
   "cell_type": "code",
   "execution_count": 9,
   "id": "f5d31e33",
   "metadata": {},
   "outputs": [
    {
     "data": {
      "text/plain": [
       "array(['Applied Online', nan, 'Campus', 'Referral', 'Search Firm'],\n",
       "      dtype=object)"
      ]
     },
     "execution_count": 9,
     "metadata": {},
     "output_type": "execute_result"
    }
   ],
   "source": [
    "#Checking the unique values in recruitment_source column where we have missing values\n",
    "dataset['recruiting_source'].unique()"
   ]
  },
  {
   "cell_type": "code",
   "execution_count": 10,
   "id": "b663d418",
   "metadata": {},
   "outputs": [
    {
     "data": {
      "text/plain": [
       "0"
      ]
     },
     "execution_count": 10,
     "metadata": {},
     "output_type": "execute_result"
    }
   ],
   "source": [
    "#Checking if the dataset contains duplicate values\n",
    "dataset.duplicated().sum()"
   ]
  },
  {
   "cell_type": "code",
   "execution_count": 11,
   "id": "86db0965",
   "metadata": {},
   "outputs": [
    {
     "name": "stdout",
     "output_type": "stream",
     "text": [
      "There is  46% data missing from recruiting_source\n"
     ]
    }
   ],
   "source": [
    "missing_perct=round(dataset['recruiting_source'].isna().sum()/len(dataset)*100)\n",
    "print(f\"There is  {missing_perct}% data missing from recruiting_source\")"
   ]
  },
  {
   "cell_type": "markdown",
   "id": "8cdeb9e5",
   "metadata": {},
   "source": [
    " Imputing the missing values with knn bfill or summary statistics is a good option\n",
    " \n",
    " My intution is these missing data has been recorded and have no association with other catgories\n",
    " \n",
    " Here i think that as 46 % of values are missing there is a higher chance of underfitting and bias(noise)\n",
    " \n",
    " I will be imputing these mssing values as Walk in or direct interviews which make\n",
    " "
   ]
  },
  {
   "cell_type": "code",
   "execution_count": 12,
   "id": "6c9f3c34",
   "metadata": {},
   "outputs": [],
   "source": [
    "#Lets Take NA values as Walk In\n",
    "dataset.fillna(\"Walk In\",inplace=True)"
   ]
  },
  {
   "cell_type": "code",
   "execution_count": 13,
   "id": "af6ce71c",
   "metadata": {},
   "outputs": [],
   "source": [
    "#Before Removing the Na values leets group the dataset with the NA values present and see if it checks out\n",
    "grouped=dataset.groupby(\"recruiting_source\").agg(\n",
    "    total_attrition=(\"attrition\",\"sum\"),\n",
    "    total_recruites=(\"attrition\",\"count\"),\n",
    "    average_sales=(\"sales_quota_pct\",\"mean\")\n",
    ").reset_index()\n",
    "grouped['average_attrition']=round(grouped['total_attrition']/grouped['total_recruites']*100,2)"
   ]
  },
  {
   "cell_type": "code",
   "execution_count": 14,
   "id": "1d44b908",
   "metadata": {},
   "outputs": [
    {
     "data": {
      "text/html": [
       "<div>\n",
       "<style scoped>\n",
       "    .dataframe tbody tr th:only-of-type {\n",
       "        vertical-align: middle;\n",
       "    }\n",
       "\n",
       "    .dataframe tbody tr th {\n",
       "        vertical-align: top;\n",
       "    }\n",
       "\n",
       "    .dataframe thead th {\n",
       "        text-align: right;\n",
       "    }\n",
       "</style>\n",
       "<table border=\"1\" class=\"dataframe\">\n",
       "  <thead>\n",
       "    <tr style=\"text-align: right;\">\n",
       "      <th></th>\n",
       "      <th>recruiting_source</th>\n",
       "      <th>total_attrition</th>\n",
       "      <th>total_recruites</th>\n",
       "      <th>average_sales</th>\n",
       "      <th>average_attrition</th>\n",
       "    </tr>\n",
       "  </thead>\n",
       "  <tbody>\n",
       "    <tr>\n",
       "      <th>4</th>\n",
       "      <td>Walk In</td>\n",
       "      <td>27</td>\n",
       "      <td>205</td>\n",
       "      <td>1.168109</td>\n",
       "      <td>13.17</td>\n",
       "    </tr>\n",
       "    <tr>\n",
       "      <th>0</th>\n",
       "      <td>Applied Online</td>\n",
       "      <td>32</td>\n",
       "      <td>130</td>\n",
       "      <td>1.058590</td>\n",
       "      <td>24.62</td>\n",
       "    </tr>\n",
       "    <tr>\n",
       "      <th>2</th>\n",
       "      <td>Referral</td>\n",
       "      <td>15</td>\n",
       "      <td>45</td>\n",
       "      <td>1.023198</td>\n",
       "      <td>33.33</td>\n",
       "    </tr>\n",
       "    <tr>\n",
       "      <th>1</th>\n",
       "      <td>Campus</td>\n",
       "      <td>16</td>\n",
       "      <td>56</td>\n",
       "      <td>0.908035</td>\n",
       "      <td>28.57</td>\n",
       "    </tr>\n",
       "    <tr>\n",
       "      <th>3</th>\n",
       "      <td>Search Firm</td>\n",
       "      <td>5</td>\n",
       "      <td>10</td>\n",
       "      <td>0.886960</td>\n",
       "      <td>50.00</td>\n",
       "    </tr>\n",
       "  </tbody>\n",
       "</table>\n",
       "</div>"
      ],
      "text/plain": [
       "  recruiting_source  total_attrition  total_recruites  average_sales  \\\n",
       "4           Walk In               27              205       1.168109   \n",
       "0    Applied Online               32              130       1.058590   \n",
       "2          Referral               15               45       1.023198   \n",
       "1            Campus               16               56       0.908035   \n",
       "3       Search Firm                5               10       0.886960   \n",
       "\n",
       "   average_attrition  \n",
       "4              13.17  \n",
       "0              24.62  \n",
       "2              33.33  \n",
       "1              28.57  \n",
       "3              50.00  "
      ]
     },
     "execution_count": 14,
     "metadata": {},
     "output_type": "execute_result"
    }
   ],
   "source": [
    "'''\n",
    "*Most of the recruits by the company is Walkin followed by online recurits\n",
    "*These Walk In in hires also have the highest averge_sales followed by online recurits\n",
    "*Walk In interviews have the most less average attrition followed by online recuits\n",
    "'''\n",
    "#We will sort the dataframe to find the recuriting_source with lowest attrition  rate and high average sales\n",
    "grouped.sort_values(by=[\"average_sales\",\"average_attrition\"],ascending=[0,1])"
   ]
  },
  {
   "cell_type": "markdown",
   "id": "75cc2493",
   "metadata": {},
   "source": [
    "# Numeric Computations"
   ]
  },
  {
   "cell_type": "code",
   "execution_count": 15,
   "id": "f93e8648",
   "metadata": {},
   "outputs": [],
   "source": [
    "# Compute mean, median, and sum for numeric columns within each group\n",
    "computed_results = grouped_data.agg({\n",
    "        'attrition': 'mean',\n",
    "        'performance_rating': ['mean', 'median', 'sum'],\n",
    "        'sales_quota_pct': ['mean', 'median', 'sum']\n",
    "}).reset_index()"
   ]
  },
  {
   "cell_type": "code",
   "execution_count": 16,
   "id": "832b3213",
   "metadata": {},
   "outputs": [
    {
     "data": {
      "text/html": [
       "<div>\n",
       "<style scoped>\n",
       "    .dataframe tbody tr th:only-of-type {\n",
       "        vertical-align: middle;\n",
       "    }\n",
       "\n",
       "    .dataframe tbody tr th {\n",
       "        vertical-align: top;\n",
       "    }\n",
       "\n",
       "    .dataframe thead tr th {\n",
       "        text-align: left;\n",
       "    }\n",
       "</style>\n",
       "<table border=\"1\" class=\"dataframe\">\n",
       "  <thead>\n",
       "    <tr>\n",
       "      <th></th>\n",
       "      <th>recruiting_source</th>\n",
       "      <th>attrition</th>\n",
       "      <th colspan=\"3\" halign=\"left\">performance_rating</th>\n",
       "      <th colspan=\"3\" halign=\"left\">sales_quota_pct</th>\n",
       "    </tr>\n",
       "    <tr>\n",
       "      <th></th>\n",
       "      <th></th>\n",
       "      <th>mean</th>\n",
       "      <th>mean</th>\n",
       "      <th>median</th>\n",
       "      <th>sum</th>\n",
       "      <th>mean</th>\n",
       "      <th>median</th>\n",
       "      <th>sum</th>\n",
       "    </tr>\n",
       "  </thead>\n",
       "  <tbody>\n",
       "    <tr>\n",
       "      <th>0</th>\n",
       "      <td>Applied Online</td>\n",
       "      <td>0.246154</td>\n",
       "      <td>2.930769</td>\n",
       "      <td>3.0</td>\n",
       "      <td>381</td>\n",
       "      <td>1.058590</td>\n",
       "      <td>1.035413</td>\n",
       "      <td>137.616724</td>\n",
       "    </tr>\n",
       "    <tr>\n",
       "      <th>1</th>\n",
       "      <td>Campus</td>\n",
       "      <td>0.285714</td>\n",
       "      <td>2.928571</td>\n",
       "      <td>3.0</td>\n",
       "      <td>164</td>\n",
       "      <td>0.908035</td>\n",
       "      <td>0.918977</td>\n",
       "      <td>50.849983</td>\n",
       "    </tr>\n",
       "    <tr>\n",
       "      <th>2</th>\n",
       "      <td>Referral</td>\n",
       "      <td>0.333333</td>\n",
       "      <td>2.844444</td>\n",
       "      <td>3.0</td>\n",
       "      <td>128</td>\n",
       "      <td>1.023198</td>\n",
       "      <td>0.982009</td>\n",
       "      <td>46.043918</td>\n",
       "    </tr>\n",
       "    <tr>\n",
       "      <th>3</th>\n",
       "      <td>Search Firm</td>\n",
       "      <td>0.500000</td>\n",
       "      <td>2.700000</td>\n",
       "      <td>3.0</td>\n",
       "      <td>27</td>\n",
       "      <td>0.886960</td>\n",
       "      <td>1.276763</td>\n",
       "      <td>8.869603</td>\n",
       "    </tr>\n",
       "    <tr>\n",
       "      <th>4</th>\n",
       "      <td>Walk In</td>\n",
       "      <td>0.131707</td>\n",
       "      <td>2.882927</td>\n",
       "      <td>3.0</td>\n",
       "      <td>591</td>\n",
       "      <td>1.168109</td>\n",
       "      <td>1.204520</td>\n",
       "      <td>239.462374</td>\n",
       "    </tr>\n",
       "  </tbody>\n",
       "</table>\n",
       "</div>"
      ],
      "text/plain": [
       "  recruiting_source attrition performance_rating             sales_quota_pct  \\\n",
       "                         mean               mean median  sum            mean   \n",
       "0    Applied Online  0.246154           2.930769    3.0  381        1.058590   \n",
       "1            Campus  0.285714           2.928571    3.0  164        0.908035   \n",
       "2          Referral  0.333333           2.844444    3.0  128        1.023198   \n",
       "3       Search Firm  0.500000           2.700000    3.0   27        0.886960   \n",
       "4           Walk In  0.131707           2.882927    3.0  591        1.168109   \n",
       "\n",
       "                         \n",
       "     median         sum  \n",
       "0  1.035413  137.616724  \n",
       "1  0.918977   50.849983  \n",
       "2  0.982009   46.043918  \n",
       "3  1.276763    8.869603  \n",
       "4  1.204520  239.462374  "
      ]
     },
     "execution_count": 16,
     "metadata": {},
     "output_type": "execute_result"
    }
   ],
   "source": [
    "computed_results"
   ]
  },
  {
   "cell_type": "code",
   "execution_count": null,
   "id": "863b69d5",
   "metadata": {},
   "outputs": [],
   "source": []
  }
 ],
 "metadata": {
  "kernelspec": {
   "display_name": "Python 3 (ipykernel)",
   "language": "python",
   "name": "python3"
  },
  "language_info": {
   "codemirror_mode": {
    "name": "ipython",
    "version": 3
   },
   "file_extension": ".py",
   "mimetype": "text/x-python",
   "name": "python",
   "nbconvert_exporter": "python",
   "pygments_lexer": "ipython3",
   "version": "3.10.9"
  }
 },
 "nbformat": 4,
 "nbformat_minor": 5
}
